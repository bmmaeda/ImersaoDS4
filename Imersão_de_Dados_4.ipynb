{
  "nbformat": 4,
  "nbformat_minor": 0,
  "metadata": {
    "colab": {
      "name": "Imersão de Dados 4.ipynb",
      "provenance": [],
      "include_colab_link": true
    },
    "kernelspec": {
      "name": "python3",
      "display_name": "Python 3"
    },
    "language_info": {
      "name": "python"
    }
  },
  "cells": [
    {
      "cell_type": "markdown",
      "metadata": {
        "id": "view-in-github",
        "colab_type": "text"
      },
      "source": [
        "<a href=\"https://colab.research.google.com/github/bmmaeda/imersaods4/blob/master/Imers%C3%A3o_de_Dados_4.ipynb\" target=\"_parent\"><img src=\"https://colab.research.google.com/assets/colab-badge.svg\" alt=\"Open In Colab\"/></a>"
      ]
    },
    {
      "cell_type": "markdown",
      "source": [
        "## Análise de Dados dos Imóveis de São Paulo"
      ],
      "metadata": {
        "id": "Iw-L_XeF3nZH"
      }
    },
    {
      "cell_type": "markdown",
      "source": [
        "#Desafio Aula 1\n",
        "\n",
        "1 - Realizar a média da metragem para cara um dos bairros (Paulo)\n",
        "\n",
        "2 - 2 formas de selecionar os dados por bairro (consultar os métodos na documentação do pandas) (Thiago)\n",
        "\n",
        "3 - Explorar alguns gráficos na documentação e aplicar nas demais colunas do DF, tentar colocar alguma conclusão (Thiago)\n",
        "\n",
        "4 - Pegar outros estatísticas dos dados, média, mediana, mim, max (Vivi)✅\n",
        "\n",
        "5 - Descobrir quais são os bairros que não tem nome de Rua. (Vivi)✅"
      ],
      "metadata": {
        "id": "ECNTtjSsaTu-"
      }
    },
    {
      "cell_type": "code",
      "execution_count": null,
      "metadata": {
        "id": "hz9yn4dWQKf9"
      },
      "outputs": [],
      "source": [
        "import pandas as pd\n",
        "url = \"https://gist.githubusercontent.com/tgcsantos/3bdb29eba6ce391e90df2b72205ba891/raw/22fa920e80c9fa209a9fccc8b52d74cc95d1599b/dados_imoveis.csv\"\n",
        "dados = pd.read_csv(url)"
      ]
    },
    {
      "cell_type": "code",
      "source": [
        "dados.head()"
      ],
      "metadata": {
        "id": "7e2Kmt74QnFZ"
      },
      "execution_count": null,
      "outputs": []
    },
    {
      "cell_type": "code",
      "source": [
        "dados.info()"
      ],
      "metadata": {
        "id": "n1sjq2OLpwaz"
      },
      "execution_count": null,
      "outputs": []
    },
    {
      "cell_type": "markdown",
      "source": [
        "1 - Realizar a média da metragem para cara um dos bairros (Paulo)"
      ],
      "metadata": {
        "id": "_OGAXelemFPM"
      }
    },
    {
      "cell_type": "markdown",
      "source": [
        "2 - Duas formas de selecionar os dados por bairro (consultar os métodos na documentação do pandas) (Thiago)"
      ],
      "metadata": {
        "id": "lTztuHHnosW7"
      }
    },
    {
      "cell_type": "markdown",
      "source": [
        "3 - Explorar alguns gráficos na documentação e aplicar nas demais colunas do DF, tentar colocar alguma conclusão (Thiago)"
      ],
      "metadata": {
        "id": "BZsAeq1qoshG"
      }
    },
    {
      "cell_type": "markdown",
      "source": [
        "## 4 - Pegar outros estatísticas dos dados, média, mediana, mim, max (Vivi) ✅"
      ],
      "metadata": {
        "id": "jI6BuUgkosk8"
      }
    },
    {
      "cell_type": "code",
      "source": [
        "dados.describe()"
      ],
      "metadata": {
        "id": "kr31E1x5sQDy"
      },
      "execution_count": null,
      "outputs": []
    },
    {
      "cell_type": "code",
      "source": [
        "#!pip install -U pandas-profiling\n",
        "#!pip install MarkupSafe==2.0.1 "
      ],
      "metadata": {
        "id": "zKpdD2UxZXNv"
      },
      "execution_count": null,
      "outputs": []
    },
    {
      "cell_type": "code",
      "source": [
        "#from pandas_profiling import ProfileReport\n",
        "#profile = ProfileReport(dados)\n",
        "#profile.to_file('imersaods.html')"
      ],
      "metadata": {
        "id": "q3ORVSmfjBmO"
      },
      "execution_count": null,
      "outputs": []
    },
    {
      "cell_type": "markdown",
      "source": [
        "\n",
        "## 5 - Descobrir quais são os bairros que não tem nome de Rua. (Vivi)✅"
      ],
      "metadata": {
        "id": "nBZc1CNdosno"
      }
    },
    {
      "cell_type": "code",
      "source": [
        "ruas = dados[dados['Rua'].isnull()]\n",
        "ruas['Bairro'].describe()"
      ],
      "metadata": {
        "id": "7Md7J2e-HKKb",
        "colab": {
          "base_uri": "https://localhost:8080/"
        },
        "outputId": "966b4f98-5c5f-4d74-cfa8-bee45e26ec63"
      },
      "execution_count": null,
      "outputs": [
        {
          "output_type": "execute_result",
          "data": {
            "text/plain": [
              "count               3434\n",
              "unique               394\n",
              "top       Jardim Guedala\n",
              "freq                 190\n",
              "Name: Bairro, dtype: object"
            ]
          },
          "metadata": {},
          "execution_count": 8
        }
      ]
    },
    {
      "cell_type": "code",
      "source": [
        "ruas_nulas = ruas['Bairro'].value_counts()\n",
        "ruas_nulas.head(20).plot.bar()"
      ],
      "metadata": {
        "id": "Q9OWOUikCI_-",
        "colab": {
          "base_uri": "https://localhost:8080/",
          "height": 360
        },
        "outputId": "ed426ccc-d963-4ebd-cba7-ea983e57ae70"
      },
      "execution_count": null,
      "outputs": [
        {
          "output_type": "execute_result",
          "data": {
            "text/plain": [
              "<matplotlib.axes._subplots.AxesSubplot at 0x7f7d4b700390>"
            ]
          },
          "metadata": {},
          "execution_count": 9
        },
        {
          "output_type": "display_data",
          "data": {
            "text/plain": [
              "<Figure size 432x288 with 1 Axes>"
            ],
            "image/png": "[encoded data removed]"
          },
          "metadata": {
            "needs_background": "light"
          }
        }
      ]
    },
    {
      "cell_type": "code",
      "source": [
        "ruas_nulas = ruas['Bairro'].unique()\n",
        "ruas_nulas"
      ],
      "metadata": {
        "id": "NSt2hL7bOlMo"
      },
      "execution_count": null,
      "outputs": []
    },
    {
      "cell_type": "markdown",
      "source": [
        "#Desafio Aula 2\n",
        "\n",
        "- Criar uma escala de valores em milhões\n",
        "- Deixar o gráfico do histograma de valores legível (alterar labels, cores, título, escala)\n",
        "- Preço do metro quadrado por bairro e plotar em um gráfico ideal\n",
        "- Explorar as bibliotecas de visualizações e colocar as suas conclusão\n",
        "- Pesquisar um visualização para analisar os quartis, mediana e outliers\n",
        "\n"
      ],
      "metadata": {
        "id": "H_dU4-UuqpbH"
      }
    },
    {
      "cell_type": "markdown",
      "source": [
        "##Desafio Aula 3\n",
        "\n",
        "- Tentar vincular dados do IBGE com os dados de imóveis.\n",
        "- Tratar os outliers e comparar com os resultados. \n",
        "- Agrupar por mais de uma categoria e realizar as análises.\n",
        "- Organize o colab para deixar com cara de projeto. \n"
      ],
      "metadata": {
        "id": "dHYvHqTlL470"
      }
    },
    {
      "cell_type": "code",
      "source": [
        "ibge_url = \"https://gist.githubusercontent.com/tgcsantos/85f8c7b0a2edbc3e27fcad619b37d886/raw/a4954781e6bca9cb804062a3eea0b3b84679daf4/Basico_SP1.csv\"\n",
        "ibge = pd.read_csv(  ibge_url, sep = ';', header = 0, encoding = 'latin-1')\n",
        "ibge.drop(columns=['Cod_setor', 'Cod_Grandes Regiï¿½es', 'Nome_Grande_Regiao', 'Cod_UF',\n",
        "       'Nome_da_UF ', 'Cod_meso', 'Nome_da_meso', 'Cod_micro', 'Nome_da_micro',\n",
        "       'Cod_RM', 'Nome_da_RM', 'Cod_distrito', 'Cod_subdistrito',\n",
        "       'Nome_do_bairro', 'Situacao_setor',\n",
        "       'Tipo_setor','Unnamed: 33'], inplace = True)"
      ],
      "metadata": {
        "id": "_e99cbnXO5V_"
      },
      "execution_count": 68,
      "outputs": []
    }
  ]
}